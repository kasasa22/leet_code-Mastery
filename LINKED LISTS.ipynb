{
 "cells": [
  {
   "cell_type": "code",
   "execution_count": 4,
   "id": "1bc5320d",
   "metadata": {},
   "outputs": [
    {
     "name": "stdout",
     "output_type": "stream",
     "text": [
      "23"
     ]
    }
   ],
   "source": [
    "##insertion at the front\n",
    "class Node:\n",
    "    def __init__ (self,data):\n",
    "        self.data = data\n",
    "        self.next = None\n",
    "class LinkedList:\n",
    "    def __init__ (self):\n",
    "        self.head = None\n",
    "    ##insertion at front\n",
    "    def insert(self, new_data):\n",
    "        ##creating a new node\n",
    "        new_node = Node(new_data)\n",
    "        ##insertion at the begining\n",
    "        new_node.next = self.head\n",
    "        self.head = new_node\n",
    "    \n",
    "    ##print the Linked list\n",
    "    def printList(self):\n",
    "        temp = self.head\n",
    "        while temp:\n",
    "            print(str(temp.data)+\" \",end=' ')\n",
    "            temp = temp.next\n",
    "\n",
    "##driver code\n",
    "llist = LinkedList()\n",
    "##function calling\n",
    "llist.insert(23)\n",
    "llist.printList()\n",
    "        "
   ]
  },
  {
   "cell_type": "code",
   "execution_count": 10,
   "id": "6e332e3f",
   "metadata": {
    "scrolled": true
   },
   "outputs": [
    {
     "name": "stdout",
     "output_type": "stream",
     "text": [
      "35  34  33  "
     ]
    }
   ],
   "source": [
    "class Node:\n",
    "    def __init__ (self, data):\n",
    "        self.data = data\n",
    "        self.head = None\n",
    "class LinkedList1:\n",
    "    def __init__(self):\n",
    "        self.head = None\n",
    "    def insert_front(self,new_data):\n",
    "        new_node = Node(new_data)\n",
    "        new_node.next = self.head\n",
    "        self.head = new_node\n",
    "    def print_list(self):\n",
    "        temp = self.head\n",
    "        while temp:\n",
    "            print(str(temp.data)+\" \",end=' ')\n",
    "            temp = temp.next\n",
    "##driver code\n",
    "lkl = LinkedList1()\n",
    "\n",
    "##function calling\n",
    "lkl.insert_front(33)\n",
    "lkl.insert_front(34)\n",
    "lkl.insert_front(35)\n",
    "lkl.print_list()\n",
    "    "
   ]
  },
  {
   "cell_type": "code",
   "execution_count": 22,
   "id": "84a03bbe",
   "metadata": {
    "scrolled": true
   },
   "outputs": [
    {
     "name": "stdout",
     "output_type": "stream",
     "text": [
      "33  34  35  "
     ]
    }
   ],
   "source": [
    "##insertion at end\n",
    "\n",
    "class Node:\n",
    "    def __init__(self,data):\n",
    "        self.data=data\n",
    "        self.next = None\n",
    "class LinkedList2:\n",
    "    def __init__(self):\n",
    "        self.head = None\n",
    "    def insertEnd(self,new_data):\n",
    "        new_node = Node(new_data)\n",
    "        if self.head is None:\n",
    "            self.head = new_node\n",
    "            return           \n",
    "            \n",
    "        \n",
    "        temp = self.head\n",
    "        \n",
    "        while temp.next:\n",
    "            temp = temp.next\n",
    "        temp.next = new_node\n",
    "        \n",
    "    def printEnd(self):\n",
    "        temp = self.head\n",
    "        while temp:\n",
    "            print(str(temp.data)+\" \",end=' ')\n",
    "            temp = temp.next\n",
    "        \n",
    "##driver code\n",
    "lkl = LinkedList2()\n",
    "\n",
    "##function calling\n",
    "lkl.insertEnd(33)\n",
    "lkl.insertEnd(34)\n",
    "lkl.insertEnd(35)\n",
    "lkl.printEnd()           \n",
    "       "
   ]
  },
  {
   "cell_type": "code",
   "execution_count": 33,
   "id": "a6011c3f",
   "metadata": {},
   "outputs": [
    {
     "name": "stdout",
     "output_type": "stream",
     "text": [
      "Insertion after a given node \n",
      "Isertion at the start: \n",
      "35  34  33  Isertion at the end: \n",
      "35  34  33  20  Isertion at the anywhere: \n",
      "35  34  20  33  20  "
     ]
    }
   ],
   "source": [
    "print (\"Insertion after a given node \")\n",
    "\n",
    "class Node:\n",
    "    def __init__(self,data):\n",
    "        self.data = data\n",
    "        self.next = None\n",
    "class LinkedList:\n",
    "    def __init__(self):\n",
    "        self.head = None\n",
    "    def insertStart(self,new_data):\n",
    "        new_node = Node(new_data)\n",
    "        new_node.next = self.head\n",
    "        self.head = new_node\n",
    "    def insertEnd(self,new_data):\n",
    "        new_node = Node(new_data)\n",
    "        if self.head is None:\n",
    "            self.head = new_node\n",
    "            return\n",
    "        temp = self.head\n",
    "        \n",
    "        while temp.next:\n",
    "            temp = temp.next\n",
    "        temp.next = new_node\n",
    "    \n",
    "    def insertAny(self,previous_node,new_data):\n",
    "        new_node = Node(new_data)\n",
    "        if self.head is None:\n",
    "            self.head = new_node\n",
    "            return\n",
    "        new_node.next = previous_node.next\n",
    "        previous_node.next = new_node\n",
    "        \n",
    "        \n",
    "    def print_list(self):\n",
    "        temp = self.head\n",
    "        while temp:\n",
    "            print(str(temp.data)+\" \",end=' ')\n",
    "            temp = temp.next\n",
    "            \n",
    "##driver code\n",
    "lkl = LinkedList()\n",
    "\n",
    "##function calling\n",
    "print('Isertion at the start: ')\n",
    "lkl.insertStart(33)\n",
    "lkl.insertStart(34)\n",
    "lkl.insertStart(35)\n",
    "lkl.print_list()\n",
    "\n",
    "print('Isertion at the end: ')\n",
    "lkl.insertEnd(20)\n",
    "lkl.print_list()\n",
    "\n",
    "\n",
    "print('Isertion at the anywhere: ')\n",
    "lkl.insertAny(lkl.head.next,20)\n",
    "lkl.print_list()\n",
    "\n",
    "\n",
    "\n",
    "\n",
    "\n",
    "    \n",
    "        "
   ]
  },
  {
   "cell_type": "code",
   "execution_count": null,
   "id": "326096dd",
   "metadata": {},
   "outputs": [],
   "source": []
  }
 ],
 "metadata": {
  "kernelspec": {
   "display_name": "Python 3 (ipykernel)",
   "language": "python",
   "name": "python3"
  },
  "language_info": {
   "codemirror_mode": {
    "name": "ipython",
    "version": 3
   },
   "file_extension": ".py",
   "mimetype": "text/x-python",
   "name": "python",
   "nbconvert_exporter": "python",
   "pygments_lexer": "ipython3",
   "version": "3.10.9"
  }
 },
 "nbformat": 4,
 "nbformat_minor": 5
}
