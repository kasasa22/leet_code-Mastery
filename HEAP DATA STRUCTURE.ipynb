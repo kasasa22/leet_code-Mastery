{
 "cells": [
  {
   "cell_type": "code",
   "execution_count": 6,
   "id": "93f9ab56",
   "metadata": {},
   "outputs": [
    {
     "name": "stdout",
     "output_type": "stream",
     "text": [
      "Counter({1: 3, 2: 1})\n",
      "The top k frequent element are:  [1, 2]\n"
     ]
    }
   ],
   "source": [
    "##HEAP QUEUE INTERVIEW QUESTION\n",
    "##TOP K FREQUENT ELEMENTS\n",
    "from collections import Counter\n",
    "import heapq\n",
    "\n",
    "def topK_frequent_element(arr,k):\n",
    "    if k == len(arr):\n",
    "        return set(arr)\n",
    "    count = Counter(arr)\n",
    "    print(count)\n",
    "    return heapq.nlargest(k,count.keys(),key=count.get)    \n",
    "\n",
    "\n",
    "\n",
    "##DRIVER CODE\n",
    "arr = [1,1,1,2]\n",
    "k = 2\n",
    "##function calling \n",
    "result= topK_frequent_element(arr,k)\n",
    "print ('The top k frequent element are: ', result)"
   ]
  },
  {
   "cell_type": "code",
   "execution_count": 9,
   "id": "9d9e3d04",
   "metadata": {},
   "outputs": [
    {
     "name": "stdout",
     "output_type": "stream",
     "text": [
      "K closest points to the origin are:  [[3, 3], [-2, 4]]\n"
     ]
    }
   ],
   "source": [
    "##K CLOSEST POINTS\n",
    "from heapq import heappush ,heappop\n",
    "import math\n",
    "\n",
    "def get_dist(x,y):\n",
    "    return math.sqrt(x**2+y**2)\n",
    "\n",
    "def kClosest(points,k):\n",
    "    min_heap= []\n",
    "    n= len(points)\n",
    "    for i in range(n):\n",
    "        x=points[i][0]\n",
    "        y=points[i][1]\n",
    "        heappush(min_heap, (get_dist(x,y),points[i]))\n",
    "    result=[]\n",
    "    \n",
    "    for i in range(k):\n",
    "        result.append(heappop(min_heap)[1])\n",
    "    return result\n",
    "        \n",
    "        \n",
    "    \n",
    "\n",
    "\n",
    "#driver code \n",
    "points =[[3,3],[5,-1],[-2,4]]\n",
    "k=2\n",
    "result = kClosest(points,k)\n",
    "print ('K closest points to the origin are: ', result)\n"
   ]
  },
  {
   "cell_type": "code",
   "execution_count": null,
   "id": "8459d520",
   "metadata": {},
   "outputs": [],
   "source": []
  }
 ],
 "metadata": {
  "kernelspec": {
   "display_name": "Python 3 (ipykernel)",
   "language": "python",
   "name": "python3"
  },
  "language_info": {
   "codemirror_mode": {
    "name": "ipython",
    "version": 3
   },
   "file_extension": ".py",
   "mimetype": "text/x-python",
   "name": "python",
   "nbconvert_exporter": "python",
   "pygments_lexer": "ipython3",
   "version": "3.10.9"
  }
 },
 "nbformat": 4,
 "nbformat_minor": 5
}
