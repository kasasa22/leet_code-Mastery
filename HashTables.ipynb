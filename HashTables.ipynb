{
 "cells": [
  {
   "cell_type": "code",
   "execution_count": 1,
   "id": "d0b17334",
   "metadata": {},
   "outputs": [],
   "source": [
    "import pandas as pd\n",
    "\n"
   ]
  },
  {
   "cell_type": "code",
   "execution_count": 2,
   "id": "60d71978",
   "metadata": {},
   "outputs": [
    {
     "name": "stdout",
     "output_type": "stream",
     "text": [
      "{'kasasa': '97', 'princess': '88', 'peter': '77'}\n"
     ]
    }
   ],
   "source": [
    "my_dict = {'kasasa':'97','princess':'88','peter':'77'}\n",
    "print(my_dict)"
   ]
  },
  {
   "cell_type": "code",
   "execution_count": 3,
   "id": "ffe956d8",
   "metadata": {},
   "outputs": [
    {
     "name": "stdout",
     "output_type": "stream",
     "text": [
      "kasasa\n",
      "princess\n",
      "peter\n"
     ]
    }
   ],
   "source": [
    "for x in my_dict:\n",
    "    print(x)"
   ]
  },
  {
   "cell_type": "code",
   "execution_count": 4,
   "id": "51b241f2",
   "metadata": {},
   "outputs": [
    {
     "name": "stdout",
     "output_type": "stream",
     "text": [
      "97\n",
      "88\n",
      "77\n"
     ]
    }
   ],
   "source": [
    "for x in my_dict.values():\n",
    "    print(x)"
   ]
  },
  {
   "cell_type": "code",
   "execution_count": 6,
   "id": "da5eefca",
   "metadata": {},
   "outputs": [
    {
     "data": {
      "text/plain": [
       "[33, 5, 64, 78, 23, 43, 12, 32, 55, 86]"
      ]
     },
     "execution_count": 6,
     "metadata": {},
     "output_type": "execute_result"
    }
   ],
   "source": [
    "list1 = [33,5,64,78,23,43,12,32,55,86]\n",
    "list1"
   ]
  },
  {
   "cell_type": "code",
   "execution_count": 7,
   "id": "5702d479",
   "metadata": {},
   "outputs": [
    {
     "name": "stdout",
     "output_type": "stream",
     "text": [
      "33\n",
      "5\n",
      "64\n",
      "78\n",
      "23\n",
      "43\n",
      "12\n",
      "32\n",
      "55\n",
      "86\n"
     ]
    }
   ],
   "source": [
    "for x in list1:\n",
    "    print (x)"
   ]
  },
  {
   "cell_type": "code",
   "execution_count": 10,
   "id": "4af7dc13",
   "metadata": {},
   "outputs": [
    {
     "name": "stdout",
     "output_type": "stream",
     "text": [
      "[33, 5, 64, 78, 23, 43, 12, 32, 55, 86]\n",
      "[33, 5, 64, 78, 23, 43, 12, 32, 55, 86]\n",
      "[33, 5, 64, 78, 23, 43, 12, 32, 55, 86]\n",
      "[33, 5, 64, 78, 23, 43, 12, 32, 55, 86]\n",
      "[33, 5, 64, 78, 23, 43, 12, 32, 55, 86]\n",
      "[33, 5, 64, 78, 23, 43, 12, 32, 55, 86]\n",
      "[33, 5, 64, 78, 23, 43, 12, 32, 55, 86]\n",
      "[33, 5, 64, 78, 23, 43, 12, 32, 55, 86]\n",
      "[33, 5, 64, 78, 23, 43, 12, 32, 55, 86]\n"
     ]
    }
   ],
   "source": [
    "n = len(list1)\n",
    "\n",
    "for i in range(n-1):\n",
    "    for j in range (n+1):\n",
    "        if j+1 < i:\n",
    "            i, j+1 == j+1, i\n",
    "    print(list1)"
   ]
  },
  {
   "cell_type": "code",
   "execution_count": null,
   "id": "e298357a",
   "metadata": {},
   "outputs": [],
   "source": [
    "##implementation of hash function\n",
    "##using a dictionary data structure\n"
   ]
  }
 ],
 "metadata": {
  "kernelspec": {
   "display_name": "Python 3 (ipykernel)",
   "language": "python",
   "name": "python3"
  },
  "language_info": {
   "codemirror_mode": {
    "name": "ipython",
    "version": 3
   },
   "file_extension": ".py",
   "mimetype": "text/x-python",
   "name": "python",
   "nbconvert_exporter": "python",
   "pygments_lexer": "ipython3",
   "version": "3.10.9"
  }
 },
 "nbformat": 4,
 "nbformat_minor": 5
}
