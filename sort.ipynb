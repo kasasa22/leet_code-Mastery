{
 "cells": [
  {
   "cell_type": "code",
   "execution_count": 1,
   "id": "04929439-1271-42bc-bd7a-9f3b17d17dca",
   "metadata": {},
   "outputs": [
    {
     "name": "stdout",
     "output_type": "stream",
     "text": [
      "[0, 0, 1, 1, 2, 2]\n"
     ]
    }
   ],
   "source": [
    "def sortColors(nums):\n",
    "    low, mid, high = 0, 0, len(nums) - 1\n",
    "    \n",
    "    while mid <= high:\n",
    "        if nums[mid] == 0:\n",
    "            nums[low], nums[mid] = nums[mid], nums[low]\n",
    "            low += 1\n",
    "            mid += 1\n",
    "        elif nums[mid] == 1:\n",
    "            mid += 1\n",
    "        else:  # nums[mid] == 2\n",
    "            nums[mid], nums[high] = nums[high], nums[mid]\n",
    "            high -= 1\n",
    "\n",
    "# Driver code\n",
    "nums1 = [2, 0, 2, 1, 1, 0]\n",
    "sortColors(nums1)\n",
    "print(nums1)"
   ]
  },
  {
   "cell_type": "code",
   "execution_count": 6,
   "id": "09f7be00-5d90-467c-b164-bc63105744b8",
   "metadata": {},
   "outputs": [
    {
     "name": "stdout",
     "output_type": "stream",
     "text": [
      "1\n",
      "[2, 2, 1]\n"
     ]
    }
   ],
   "source": [
    "def intCount(arr):\n",
    "    answer=0\n",
    "    for i in arr:\n",
    "        answer ^=i\n",
    "    return answer\n",
    "        \n",
    "##driver code \n",
    "nums = [2,2,1]\n",
    "result= intCount(nums)\n",
    "print(result)\n",
    "print(nums)             "
   ]
  },
  {
   "cell_type": "code",
   "execution_count": null,
   "id": "e3b929e0-c0bb-4ccd-bbf2-4f9df3177e47",
   "metadata": {},
   "outputs": [],
   "source": []
  }
 ],
 "metadata": {
  "kernelspec": {
   "display_name": "Python 3 (ipykernel)",
   "language": "python",
   "name": "python3"
  },
  "language_info": {
   "codemirror_mode": {
    "name": "ipython",
    "version": 3
   },
   "file_extension": ".py",
   "mimetype": "text/x-python",
   "name": "python",
   "nbconvert_exporter": "python",
   "pygments_lexer": "ipython3",
   "version": "3.12.6"
  }
 },
 "nbformat": 4,
 "nbformat_minor": 5
}
