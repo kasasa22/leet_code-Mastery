{
 "cells": [
  {
   "cell_type": "code",
   "execution_count": 1,
   "id": "7c521f20",
   "metadata": {},
   "outputs": [],
   "source": [
    "arr = [1,2,3,5,66,34,38,54,67,87]"
   ]
  },
  {
   "cell_type": "code",
   "execution_count": 2,
   "id": "38c833f3",
   "metadata": {},
   "outputs": [
    {
     "data": {
      "text/plain": [
       "66"
      ]
     },
     "execution_count": 2,
     "metadata": {},
     "output_type": "execute_result"
    }
   ],
   "source": [
    "#RANDOM ACCESS\n",
    "arr[4]"
   ]
  },
  {
   "cell_type": "code",
   "execution_count": 3,
   "id": "9a26db43",
   "metadata": {},
   "outputs": [
    {
     "name": "stdout",
     "output_type": "stream",
     "text": [
      "Searching element is present at index -1\n"
     ]
    }
   ],
   "source": [
    "#LINEAR SEARCH\n",
    "#time complexity is O(n)\n",
    "#space complexity O(1)\n",
    "\n",
    "def linearSearch(arr, x):\n",
    "    for i in range(len(arr)):\n",
    "        if arr[i] == x:\n",
    "            return i\n",
    "    return -1\n",
    "\n",
    "x = 69\n",
    "\n",
    "#calling the function\n",
    "result = linearSearch(arr , x)\n",
    "\n",
    "print (\"Searching element is present at index\", result)\n",
    "\n",
    "\n"
   ]
  },
  {
   "cell_type": "code",
   "execution_count": 4,
   "id": "51c7901d",
   "metadata": {},
   "outputs": [
    {
     "data": {
      "text/plain": [
       "[1, 2, 5, 3, 5, 66, 34, 38, 54, 67, 87]"
      ]
     },
     "execution_count": 4,
     "metadata": {},
     "output_type": "execute_result"
    }
   ],
   "source": [
    "#insert an element at a given index\n",
    "#time complexity(O(n))\n",
    "arr.insert(2,5)\n",
    "arr"
   ]
  },
  {
   "cell_type": "code",
   "execution_count": 5,
   "id": "335eb1a2",
   "metadata": {},
   "outputs": [
    {
     "data": {
      "text/plain": [
       "[1, 2, 3, 5, 66, 34, 38, 54, 67, 87]"
      ]
     },
     "execution_count": 5,
     "metadata": {},
     "output_type": "execute_result"
    }
   ],
   "source": [
    "#Remove an element from a list\n",
    "arr.remove(5)\n",
    "arr"
   ]
  },
  {
   "cell_type": "code",
   "execution_count": 6,
   "id": "7ee67b3c",
   "metadata": {},
   "outputs": [
    {
     "data": {
      "text/plain": [
       "[1, 2, 3, 5, 66, 2, 34, 38, 54, 67, 87]"
      ]
     },
     "execution_count": 6,
     "metadata": {},
     "output_type": "execute_result"
    }
   ],
   "source": [
    "arr.insert(5,2)\n",
    "arr.count(2)\n",
    "arr.count(2)\n",
    "arr\n"
   ]
  },
  {
   "cell_type": "code",
   "execution_count": 7,
   "id": "2003b827",
   "metadata": {},
   "outputs": [
    {
     "data": {
      "text/plain": [
       "2"
      ]
     },
     "execution_count": 7,
     "metadata": {},
     "output_type": "execute_result"
    }
   ],
   "source": [
    "#counting the number of times an element appears in an array\n",
    "#u pass the index of the value to be deleted\n",
    "# use remove to remove value without using the index\n",
    "arr.count(2)"
   ]
  },
  {
   "cell_type": "code",
   "execution_count": 8,
   "id": "769dfc41",
   "metadata": {},
   "outputs": [
    {
     "data": {
      "text/plain": [
       "[1, 2, 5, 66, 2, 34, 38, 54, 67, 87]"
      ]
     },
     "execution_count": 8,
     "metadata": {},
     "output_type": "execute_result"
    }
   ],
   "source": [
    "#deleting an array from  a given index\n",
    "arr.pop(2)\n",
    "arr"
   ]
  },
  {
   "cell_type": "code",
   "execution_count": 9,
   "id": "206d5c90",
   "metadata": {},
   "outputs": [
    {
     "data": {
      "text/plain": [
       "[1, 2, 2, 5, 34, 38, 54, 66, 67, 87]"
      ]
     },
     "execution_count": 9,
     "metadata": {},
     "output_type": "execute_result"
    }
   ],
   "source": [
    "##sort the array\n",
    "arr.sort()\n",
    "arr"
   ]
  },
  {
   "cell_type": "code",
   "execution_count": 10,
   "id": "10285ec4",
   "metadata": {},
   "outputs": [
    {
     "data": {
      "text/plain": [
       "4"
      ]
     },
     "execution_count": 10,
     "metadata": {},
     "output_type": "execute_result"
    }
   ],
   "source": [
    "#to extract the index of any element in the array\n",
    "arr.index(34)"
   ]
  },
  {
   "cell_type": "code",
   "execution_count": 11,
   "id": "71b8f11e",
   "metadata": {},
   "outputs": [
    {
     "data": {
      "text/plain": [
       "[1, 2, 2, 5, 34, 38, 54, 66, 67, 87, 4, 5, 6]"
      ]
     },
     "execution_count": 11,
     "metadata": {},
     "output_type": "execute_result"
    }
   ],
   "source": [
    "##to extend the original array\n",
    "arr.extend([4,5,6])\n",
    "arr\n"
   ]
  },
  {
   "cell_type": "code",
   "execution_count": 12,
   "id": "8e45b107",
   "metadata": {},
   "outputs": [
    {
     "data": {
      "text/plain": [
       "[1, 2, 2, 5, 34, 38, 54, 66, 67, 87, 4, 5, 6]"
      ]
     },
     "execution_count": 12,
     "metadata": {},
     "output_type": "execute_result"
    }
   ],
   "source": [
    "##reverse the entire list\n",
    "arr.reverse\n",
    "arr"
   ]
  },
  {
   "cell_type": "code",
   "execution_count": 13,
   "id": "bd4fdc19",
   "metadata": {},
   "outputs": [
    {
     "name": "stdout",
     "output_type": "stream",
     "text": [
      "Reinitialized existing Git repository in C:/Users/x1carbon/.git/\n"
     ]
    }
   ],
   "source": [
    "!git init\n"
   ]
  },
  {
   "cell_type": "code",
   "execution_count": 14,
   "id": "d239a48c",
   "metadata": {},
   "outputs": [
    {
     "name": "stdout",
     "output_type": "stream",
     "text": [
      "5\n"
     ]
    }
   ],
   "source": [
    "##SEARCHING CONCEPTS IN AN ARRAY\n",
    "##SIMPLE LINEAR SEARCH\n",
    "##BINARY SEARCH(OPTIMIZATION OF THE LINEAR SEARCH)\n",
    "n= len(arr)\n",
    "\n",
    "def linearsearch(arr,x):\n",
    "    for i in range(n):\n",
    "        if arr[i]==x:\n",
    "            return i\n",
    "    return -1\n",
    "\n",
    "arr = [20,40,70,10,12,11,29,75,46]\n",
    "x= 11 ##find 11 in the arr\n",
    "result=linearsearch(arr,x)\n",
    "print(result)\n",
    "\n",
    "##Time complexity  = O(n)\n",
    "##space complexity = O(1)\n"
   ]
  },
  {
   "cell_type": "code",
   "execution_count": 15,
   "id": "0f70c44f",
   "metadata": {},
   "outputs": [
    {
     "name": "stdout",
     "output_type": "stream",
     "text": [
      "Element is present at index 7\n"
     ]
    }
   ],
   "source": [
    "##BINARY SEARCH\n",
    "##Application of divide and conquer\n",
    "##sorted Array\n",
    "##using recursion\n",
    "def binarySearch(arr, i, j, x):\n",
    "    while i <= j:\n",
    "        mid = i + (j - i) // 2 \n",
    "        if arr[mid] == x:\n",
    "            return mid\n",
    "        elif arr[mid] < x:\n",
    "            return binarySearch(arr, mid + 1, j, x)\n",
    "        else:\n",
    "            return binarySearch(arr, i, mid - 1, x)\n",
    "    return -1\n",
    "\n",
    "arr = [1, 2, 2, 5, 34, 38, 54, 66, 67, 87, 4, 5, 6]\n",
    "arr.sort()  # Sort the array before applying binary search\n",
    "x = 34  # Element to search for\n",
    "i = 0\n",
    "j = len(arr) - 1\n",
    "\n",
    "result = binarySearch(arr, i, j, x)\n",
    "\n",
    "if result != -1:\n",
    "    print(f\"Element is present at index {result}\")\n",
    "else:\n",
    "    print(\"Element is not present in the array\")\n",
    "\n"
   ]
  },
  {
   "cell_type": "code",
   "execution_count": 16,
   "id": "0e2062ec",
   "metadata": {},
   "outputs": [
    {
     "name": "stdout",
     "output_type": "stream",
     "text": [
      "Element is present at index 2\n"
     ]
    }
   ],
   "source": [
    "##BINARY SEARCH\n",
    "##Application of divide and conquer\n",
    "##sorted Array\n",
    "#without using recursion\n",
    "def binarySearch(arr, i, j, x):\n",
    "    while i <= j:\n",
    "        mid = i + (j - i) // 2 \n",
    "        if arr[mid] == x:\n",
    "            return mid\n",
    "        elif arr[mid] < x:\n",
    "            i= mid+1\n",
    "        else:\n",
    "            j=mid-1\n",
    "    return -1\n",
    "\n",
    "##driver code\n",
    "\n",
    "arr = [1, 2, 2, 5, 34, 38, 54, 66, 67, 87, 4, 5, 6]\n",
    "arr.sort()  # Sort the array before applying binary search\n",
    "x = 2  # Element to search for\n",
    "i = 0\n",
    "j = len(arr) - 1\n",
    "\n",
    "result = binarySearch(arr, i, j, x)\n",
    "\n",
    "if result != -1:\n",
    "    print(f\"Element is present at index {result}\")\n",
    "else:\n",
    "    print(\"Element is not present in the array\")\n",
    "\n"
   ]
  },
  {
   "cell_type": "code",
   "execution_count": null,
   "id": "11428fb3",
   "metadata": {},
   "outputs": [],
   "source": [
    "def search(arr,i,j,x):\n",
    "    while (i<=j):\n",
    "        mid = (i+(j-1))//2\n",
    "        if arr[mid] == x:\n",
    "            return mid\n",
    "        elif arr[mid] <x:\n",
    "            return search(arr,mid+1,j,x)\n",
    "        elif arr[mid] >x:\n",
    "            return search(arr,i,mid-1,x)\n",
    "    return -1\n",
    "\n",
    "##driver code\n",
    "arr = [1, 2, 2, 5, 34, 38, 54, 66, 67, 87, 4, 5, 6]\n",
    "arr.sort()\n",
    "i = 0\n",
    "j= len(arr)-1\n",
    "x = 22\n",
    "\n",
    "result = print(search(arr,i,j,x))\n",
    "if result != -1:\n",
    "    print(f\"Element is present at index {result}\")\n",
    "else:\n",
    "    print(\"Element is not present in the array\")\n"
   ]
  },
  {
   "cell_type": "code",
   "execution_count": null,
   "id": "9e28c5dc",
   "metadata": {},
   "outputs": [],
   "source": [
    "##2D MATRIX\n",
    "##function definition \n",
    "\n",
    "def binarySearch_2D(matrix,target):\n",
    "    m = len(matrix) ##no. of rows\n",
    "    if m == 0 :\n",
    "        return False\n",
    "    ##no.of columns\n",
    "    n = len(matrix[0])\n",
    "    left, right = 0, m*n-1\n",
    "    while left<=right:\n",
    "        mid = left+(right-left)//2\n",
    "        mid_element = matrix[mid//n][mid%n]\n",
    "        if target == mid_element:\n",
    "            return True\n",
    "        elif target < mid_element:\n",
    "            right = mid -1\n",
    "        else:\n",
    "            left = mid +1\n",
    "            \n",
    "    return False\n",
    "    \n",
    "##driver code\n",
    "matrix = [[1,3,5,7],[10,11,16,20],[23,30,34,60]]\n",
    "target=110\n",
    "##function calling\n",
    "result = binarySearch_2D(matrix, target)\n",
    "print(result)"
   ]
  },
  {
   "cell_type": "code",
   "execution_count": null,
   "id": "26c15b57",
   "metadata": {},
   "outputs": [],
   "source": [
    "##example 2 for 2d matrix\n",
    "\n",
    "def twoD(matrix, target):\n",
    "    m = len(matrix)\n",
    "    n= len (matrix[0])\n",
    "    \n",
    "    if m == 0 :\n",
    "        return False\n",
    "    left ,right = 0 , m*n-1\n",
    "    \n",
    "    while left <= right:\n",
    "        mid = left+(right-left)//2\n",
    "        mid_element = matrix[mid//n][mid%n]\n",
    "        \n",
    "        if target==mid_element:\n",
    "            return True\n",
    "        elif target < mid_element:\n",
    "            right = mid-1\n",
    "        else:\n",
    "            left = mid+1\n",
    "    return False\n",
    "\n",
    "##driver code\n",
    "target = 10\n",
    "matrix = [[1,3,5,7],[10,11,16,20],[23,30,34,60]]\n",
    "\n",
    "## calling the function\n",
    "\n",
    "result = twoD(matrix,target)\n",
    "print(result)\n",
    "\n",
    "            \n",
    "            "
   ]
  },
  {
   "cell_type": "code",
   "execution_count": null,
   "id": "d3698f74",
   "metadata": {},
   "outputs": [],
   "source": [
    "def ternarySearch(arr, l, r, x):\n",
    "    while l <= r:\n",
    "        # Calculating the two mid points\n",
    "        mid1 = l + (r - l) // 3\n",
    "        mid2 = r - (r - l) // 3\n",
    "        \n",
    "        # Check if x is present at any mid\n",
    "        if arr[mid1] == x:\n",
    "            return mid1\n",
    "        elif arr[mid2] == x:\n",
    "            return mid2\n",
    "        \n",
    "        # If x is in the left third\n",
    "        if x < arr[mid1]:\n",
    "            return ternarySearch(arr, l, mid1 - 1, x)\n",
    "        # If x is in the right third\n",
    "        elif x > arr[mid2]:\n",
    "            return ternarySearch(arr, mid2 + 1, r, x)\n",
    "        # If x is in the middle third\n",
    "        else:\n",
    "            return ternarySearch(arr, mid1 + 1, mid2 - 1, x)\n",
    "    \n",
    "    return -1  # Element is not found\n",
    "\n",
    "# Example: Ternary search\n",
    "arr = [1, 2, 2, 4, 5, 5, 6, 34, 38, 54, 66, 67, 87]\n",
    "l = 0\n",
    "r = len(arr) - 1\n",
    "x = 54\n",
    "\n",
    "# Calling the function\n",
    "result = ternarySearch(arr, l, r, x)\n",
    "print('The value of ternary search is:', result)\n"
   ]
  },
  {
   "cell_type": "code",
   "execution_count": null,
   "id": "f2e68015",
   "metadata": {},
   "outputs": [],
   "source": [
    "##Bubble sort\n",
    "##method definition\n",
    "def bubbleSort(arr):\n",
    "    n = len(arr)\n",
    "    for i in range(n):\n",
    "        for j in range (0, n-1-i):\n",
    "            if arr[j]>arr[j+1]:\n",
    "                arr[j],arr[j+1] = arr[j+1], arr[j]\n",
    "    return arr\n",
    "#driver code \n",
    "arr = [1, 2, 2, 5, 34, 38, 54, 66, 67, 87, 4, 5, 6]\n",
    "result = bubbleSort(arr)\n",
    "print ('The sorted array is :', result)"
   ]
  },
  {
   "cell_type": "code",
   "execution_count": null,
   "id": "8e896c51",
   "metadata": {},
   "outputs": [],
   "source": [
    "##selection Sort\n",
    "##method definition\n",
    "\n",
    "def selectionSort(arr):\n",
    "    \n",
    "    n = len(arr)\n",
    "    \n",
    "    for i in range(n):\n",
    "        min_idx  = i\n",
    "        for j in range(i+1, n):\n",
    "            if arr[j] < arr[min_idx]:\n",
    "                min_idx=j\n",
    "        arr[i], arr[min_idx] = arr[min_idx],arr[i]\n",
    "    return arr\n",
    "\n",
    "##driver code \n",
    "arr = [1, 2, 2, 5, 34, 38, 54, 66, 67, 87, 4, 5, 6]\n",
    "result = selectionSort(arr)\n",
    "print ('The sorted array is :', result)\n"
   ]
  },
  {
   "cell_type": "code",
   "execution_count": null,
   "id": "b6d42786",
   "metadata": {},
   "outputs": [],
   "source": [
    "##insertion sort\n",
    "def insertionSort(arr):\n",
    "    n = len(arr)\n",
    "    \n",
    "    for i in range (1 , n):\n",
    "        key = arr[i]\n",
    "        j = i-1\n",
    "        while j>=0 and key < arr[j]:\n",
    "            arr[j+1]=arr[j]\n",
    "            j -= 1\n",
    "        arr[j+1] = key\n",
    "    return arr\n",
    "\n",
    "##driver code \n",
    "arr = [1, 2, 2, 5, 34, 38, 54, 66, 67, 87, 4, 5, 6]\n",
    "result = insertionSort(arr)\n",
    "print ('The sorted array is :', result)"
   ]
  },
  {
   "cell_type": "code",
   "execution_count": null,
   "id": "f8f49588",
   "metadata": {},
   "outputs": [],
   "source": [
    "##Best time to Buy\n",
    "def bestTime(price):\n",
    "    max_profit = 0\n",
    "    min_price=float('inf')\n",
    "    \n",
    "    for i in range(len(price)):\n",
    "        if prices[i] < min_price:\n",
    "            min_price = price[i]\n",
    "        elif price[i] - min_price>max_profit:\n",
    "            max_profit = price[i]- min_price\n",
    "    return max_profit\n",
    "            \n",
    "\n",
    "##driver code \n",
    "price= [2,4,1,5,8,9,13,76]\n",
    "result = bestTime(price)\n",
    "\n",
    "print ('The best time to buy is: ', result)"
   ]
  },
  {
   "cell_type": "code",
   "execution_count": null,
   "id": "32132d24",
   "metadata": {},
   "outputs": [],
   "source": [
    "##COLLINEAR POINTS\n",
    "##USING THE SLOPE METHOD 1\n",
    "def isCollinear(x1,x2,x3,y1,y2,y3):\n",
    "    if((y2-y1)*(x3-x2)==(x2-x1)*(y3-y2)):\n",
    "        print('The points are collenear')\n",
    "    else:\n",
    "        print('The points are not collinear.')\n",
    "\n",
    "x1,x2,x3,y1,y2,y3 = 1,1,1,6,0,9\n",
    "isCollinear(x1,x2,x3,y1,y2,y3)"
   ]
  },
  {
   "cell_type": "code",
   "execution_count": null,
   "id": "82a73c39",
   "metadata": {},
   "outputs": [],
   "source": [
    "##COLLINEAR POINTS\n",
    "##USING THE AREA METHOD 2\n",
    "def isCollinear(x1,x2,x3,y1,y2,y3):\n",
    "    area = 0.5*(x1*(y2-y3)+x2*(y3-y1)+x3*(y1-y2))\n",
    "    if area == 0:\n",
    "        print('The points are collenear')\n",
    "    else:\n",
    "        print('The points are not collenear')\n",
    "        \n",
    "   \n",
    "\n",
    "x1,x2,x3,y1,y2,y3 = 1,1,1,6,0,9\n",
    "isCollinear(x1,x2,x3,y1,y2,y3)"
   ]
  },
  {
   "cell_type": "code",
   "execution_count": null,
   "id": "8c21283b",
   "metadata": {},
   "outputs": [],
   "source": [
    "from collections import Counter\n",
    "##Dictionary method\n",
    "##FAANG MAJORITY ELEMENT\n",
    "\n",
    "def elementMajority(nums):\n",
    "    counts = Counter(nums)\n",
    "    print(counts)\n",
    "    return max(counts.keys(), key)\n",
    "\n",
    "##DRIVER CODE\n",
    "nums = [1,2,1,2,1,2,2]\n",
    "result = elementMajority(nums)\n",
    "print('The majority element is:', result)"
   ]
  },
  {
   "cell_type": "code",
   "execution_count": null,
   "id": "af5ad964",
   "metadata": {},
   "outputs": [],
   "source": [
    "##Boye -moore Voting\n",
    "\n",
    "\n",
    "def findCandidate(nums):\n",
    "    count = 0\n",
    "    caandidate = None\n",
    "    for num in nums:\n",
    "        if count ==0:\n",
    "            candidate=num\n",
    "        count += (1 if num == candidate else -1)\n",
    "    return candidate\n",
    "#Method def of isMajority\n",
    "def isMajority(nums, candidate):\n",
    "    cnt =0\n",
    "    n  =len(nums)\n",
    "    \n",
    "    for i in range(n):\n",
    "        if nums[i]==candidate:\n",
    "            cnt +=1\n",
    "    if cnt  > n/2:\n",
    "        return 1\n",
    "    else:\n",
    "        return 0\n",
    "def printMajorityElement(nums):\n",
    "    cand  = findCandidate(nums)\n",
    "    if isMajority(nums, cand):\n",
    "        print('The majority element is:', cand)\n",
    "    else:\n",
    "        print('There is no majority element')\n",
    "        \n",
    "##driver code \n",
    "nums = [2,2,7,3,4]\n",
    "printMajorityElement(nums)\n",
    "\n",
    "    "
   ]
  },
  {
   "cell_type": "code",
   "execution_count": null,
   "id": "abc48fed",
   "metadata": {},
   "outputs": [],
   "source": []
  }
 ],
 "metadata": {
  "kernelspec": {
   "display_name": "Python 3 (ipykernel)",
   "language": "python",
   "name": "python3"
  },
  "language_info": {
   "codemirror_mode": {
    "name": "ipython",
    "version": 3
   },
   "file_extension": ".py",
   "mimetype": "text/x-python",
   "name": "python",
   "nbconvert_exporter": "python",
   "pygments_lexer": "ipython3",
   "version": "3.10.9"
  }
 },
 "nbformat": 4,
 "nbformat_minor": 5
}
