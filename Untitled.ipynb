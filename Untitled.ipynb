{
 "cells": [
  {
   "cell_type": "code",
   "execution_count": 2,
   "id": "95902cdd",
   "metadata": {},
   "outputs": [
    {
     "name": "stdout",
     "output_type": "stream",
     "text": [
      "False\n",
      "The array doesn't contain duplicates\n"
     ]
    }
   ],
   "source": [
    "##using the counter \n",
    "from collections import Counter\n",
    "##define the function\n",
    "class IsDuplicate:    \n",
    "    def duplicates(arr):\n",
    "        count = Counter(arr)        \n",
    "        for i,value in count.items():\n",
    "            if value >1:\n",
    "                return True\n",
    "        return False\n",
    "       \n",
    "\n",
    "##driver code\n",
    "arr =  [1, 2, 3]\n",
    "result = IsDuplicate.duplicates(arr)\n",
    "print(result)\n",
    "if result:\n",
    "    print('The array contains duplicate :')\n",
    "else:\n",
    "    print('The array doesn\\'t contain duplicates')\n"
   ]
  },
  {
   "cell_type": "code",
   "execution_count": 3,
   "id": "be2d9015",
   "metadata": {},
   "outputs": [
    {
     "name": "stdout",
     "output_type": "stream",
     "text": [
      "[1, 2, 3]\n"
     ]
    }
   ],
   "source": [
    "class Solution(object):\n",
    "    def removeDuplicates(self, nums):\n",
    "        nums1=[]\n",
    "        for i in nums:\n",
    "            if i not in nums1:\n",
    "                nums1.append(i)\n",
    "        return nums1\n",
    "\n",
    "dup = Solution()\n",
    "nums=[1,1,2,2,3,3]\n",
    "result = dup.removeDuplicates(nums)\n",
    "print(result)         \n",
    "        "
   ]
  },
  {
   "cell_type": "code",
   "execution_count": null,
   "id": "cbffef7b",
   "metadata": {},
   "outputs": [],
   "source": []
  },
  {
   "cell_type": "code",
   "execution_count": null,
   "id": "b38d14ce",
   "metadata": {},
   "outputs": [],
   "source": []
  }
 ],
 "metadata": {
  "kernelspec": {
   "display_name": "Python 3 (ipykernel)",
   "language": "python",
   "name": "python3"
  },
  "language_info": {
   "codemirror_mode": {
    "name": "ipython",
    "version": 3
   },
   "file_extension": ".py",
   "mimetype": "text/x-python",
   "name": "python",
   "nbconvert_exporter": "python",
   "pygments_lexer": "ipython3",
   "version": "3.10.9"
  }
 },
 "nbformat": 4,
 "nbformat_minor": 5
}
