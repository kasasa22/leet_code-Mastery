{
 "cells": [
  {
   "cell_type": "code",
   "execution_count": 2,
   "id": "142eacf8",
   "metadata": {},
   "outputs": [
    {
     "name": "stdout",
     "output_type": "stream",
     "text": [
      "False\n",
      "The array doesn't contain duplicates\n"
     ]
    }
   ],
   "source": [
    "##using the counter \n",
    "from collections import Counter\n",
    "##define the function\n",
    "class IsDuplicate:    \n",
    "    def duplicates(arr):\n",
    "        count = Counter(arr)        \n",
    "        for i,value in count.items():\n",
    "            if value >1:\n",
    "                return True\n",
    "        return False\n",
    "       \n",
    "\n",
    "##driver code\n",
    "arr =  [1, 2, 3]\n",
    "result = IsDuplicate.duplicates(arr)\n",
    "print(result)\n",
    "if result:\n",
    "    print('The array contains duplicate :')\n",
    "else:\n",
    "    print('The array doesn\\'t contain duplicates')\n"
   ]
  },
  {
   "cell_type": "code",
   "execution_count": 3,
   "id": "853244aa",
   "metadata": {},
   "outputs": [
    {
     "name": "stdout",
     "output_type": "stream",
     "text": [
      "[1, 2, 3]\n"
     ]
    }
   ],
   "source": [
    "class Solution(object):\n",
    "    def removeDuplicates(self, nums):\n",
    "        nums1=[]\n",
    "        for i in nums:\n",
    "            if i not in nums1:\n",
    "                nums1.append(i)\n",
    "        return nums1\n",
    "\n",
    "dup = Solution()\n",
    "nums=[1,1,2,2,3,3]\n",
    "result = dup.removeDuplicates(nums)\n",
    "print(result)         \n",
    "        "
   ]
  },
  {
   "cell_type": "code",
   "execution_count": 5,
   "id": "f832327d",
   "metadata": {
    "scrolled": true
   },
   "outputs": [
    {
     "name": "stdout",
     "output_type": "stream",
     "text": [
      "k = 5, nums = [0, 1, 2, 3, 4]\n"
     ]
    }
   ],
   "source": [
    "class Solution:\n",
    "    def removeDuplicates(self, nums):\n",
    "        if not nums:\n",
    "            return 0\n",
    "        \n",
    "        k = 1  \n",
    "        \n",
    "        for i in range(1, len(nums)):\n",
    "            if nums[i] != nums[i - 1]:  \n",
    "                nums[k] = nums[i]       \n",
    "                k += 1                 \n",
    "        \n",
    "        return k \n",
    "    \n",
    "nums = [0,0,1,1,1,2,2,3,3,4]\n",
    "sol = Solution()\n",
    "k = sol.removeDuplicates(nums)\n",
    "print(f\"k = {k}, nums = {nums[:k]}\") \n"
   ]
  },
  {
   "cell_type": "code",
   "execution_count": 37,
   "id": "92eba149",
   "metadata": {},
   "outputs": [
    {
     "name": "stdout",
     "output_type": "stream",
     "text": [
      "False\n"
     ]
    }
   ],
   "source": [
    "class Solution:\n",
    "    def Counters(self,arr):\n",
    "        n=len(arr)\n",
    "        for i in range(1,n):\n",
    "            if arr[i]==arr[i-1]:\n",
    "                return True\n",
    "            else:\n",
    "                return False \n",
    "        \n",
    "    \n",
    "call = Solution()\n",
    "nums=[1,2,3]\n",
    "result = call.Counters(nums)\n",
    "print(result)"
   ]
  },
  {
   "cell_type": "code",
   "execution_count": null,
   "id": "09c318bf",
   "metadata": {},
   "outputs": [],
   "source": []
  },
  {
   "cell_type": "code",
   "execution_count": null,
   "id": "b5d219e5",
   "metadata": {},
   "outputs": [],
   "source": []
  }
 ],
 "metadata": {
  "kernelspec": {
   "display_name": "Python 3 (ipykernel)",
   "language": "python",
   "name": "python3"
  },
  "language_info": {
   "codemirror_mode": {
    "name": "ipython",
    "version": 3
   },
   "file_extension": ".py",
   "mimetype": "text/x-python",
   "name": "python",
   "nbconvert_exporter": "python",
   "pygments_lexer": "ipython3",
   "version": "3.10.9"
  }
 },
 "nbformat": 4,
 "nbformat_minor": 5
}
