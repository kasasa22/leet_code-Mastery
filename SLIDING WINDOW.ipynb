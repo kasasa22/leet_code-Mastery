{
 "cells": [
  {
   "cell_type": "code",
   "execution_count": null,
   "id": "b8660b3b",
   "metadata": {},
   "outputs": [],
   "source": [
    "class SlidingWindow:\n",
    "    def maxSlidingWindow(self,nums:List[int],k:int)->List[int]:\n",
    "        output[]\n",
    "        q = collections.deque()\n",
    "        l=r=0\n",
    "        \n",
    "        while r < len(nums):\n",
    "            ##pop smaller values from queue\n",
    "            while q and nums[q[-1]]<nums[r]:\n",
    "                q.pop()\n",
    "            \n",
    "            ##remove left value from the window\n",
    "            if l > q[0]:\n",
    "                q.popleft()\n",
    "                \n",
    "            if (r+1)>=k:\n",
    "                output.append(nums[q[0]])\n",
    "                l +=1\n",
    "            r +=1\n",
    "        return output\n",
    "    \n",
    "            \n",
    "            \n",
    "        "
   ]
  }
 ],
 "metadata": {
  "kernelspec": {
   "display_name": "Python 3 (ipykernel)",
   "language": "python",
   "name": "python3"
  },
  "language_info": {
   "codemirror_mode": {
    "name": "ipython",
    "version": 3
   },
   "file_extension": ".py",
   "mimetype": "text/x-python",
   "name": "python",
   "nbconvert_exporter": "python",
   "pygments_lexer": "ipython3",
   "version": "3.12.6"
  }
 },
 "nbformat": 4,
 "nbformat_minor": 5
}
